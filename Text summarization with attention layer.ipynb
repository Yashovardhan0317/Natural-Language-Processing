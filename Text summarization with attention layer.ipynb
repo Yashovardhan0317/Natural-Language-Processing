{
 "cells": [
  {
   "cell_type": "markdown",
   "metadata": {},
   "source": [
    "# TEXT SUMMARIZATION"
   ]
  },
  {
   "cell_type": "markdown",
   "metadata": {
    "id": "JUValOzcHtEK"
   },
   "source": [
    "## Import the Libraries"
   ]
  },
  {
   "cell_type": "code",
   "execution_count": 1,
   "metadata": {
    "_cell_guid": "b1076dfc-b9ad-4769-8c92-a6c4dae69d19",
    "_uuid": "8f2839f25d086af736a60e9eeb907d3b93b6e0e5",
    "execution": {
     "iopub.execute_input": "2021-07-18T10:06:19.127820Z",
     "iopub.status.busy": "2021-07-18T10:06:19.127344Z",
     "iopub.status.idle": "2021-07-18T10:06:19.142478Z",
     "shell.execute_reply": "2021-07-18T10:06:19.141188Z",
     "shell.execute_reply.started": "2021-07-18T10:06:19.127775Z"
    },
    "id": "_Jpu8qLEFxcY",
    "outputId": "95968e01-faac-4911-c802-9c008a4e62cf"
   },
   "outputs": [
    {
     "name": "stderr",
     "output_type": "stream",
     "text": [
      "Using TensorFlow backend.\n"
     ]
    }
   ],
   "source": [
    "import numpy as np\n",
    "import pandas as pd \n",
    "import re\n",
    "from bs4 import BeautifulSoup\n",
    "from keras.preprocessing.text import Tokenizer\n",
    "from attention import AttentionLayer \n",
    "from keras.preprocessing.sequence import pad_sequences\n",
    "from nltk.corpus import stopwords\n",
    "from tensorflow.keras.layers import Input, LSTM, Embedding, Dense, Concatenate, TimeDistributed\n",
    "from tensorflow.keras.models import Model\n",
    "from tensorflow.keras.callbacks import EarlyStopping\n",
    "import warnings\n",
    "pd.set_option(\"display.max_colwidth\", 200)\n",
    "warnings.filterwarnings(\"ignore\")"
   ]
  },
  {
   "cell_type": "code",
   "execution_count": null,
   "metadata": {},
   "outputs": [],
   "source": [
    "#dataset"
   ]
  },
  {
   "cell_type": "code",
   "execution_count": 2,
   "metadata": {
    "execution": {
     "iopub.execute_input": "2021-07-18T10:06:19.147403Z",
     "iopub.status.busy": "2021-07-18T10:06:19.147019Z",
     "iopub.status.idle": "2021-07-18T10:06:19.528279Z",
     "shell.execute_reply": "2021-07-18T10:06:19.526625Z",
     "shell.execute_reply.started": "2021-07-18T10:06:19.147372Z"
    },
    "id": "wnK5o4Z1Fxcj"
   },
   "outputs": [],
   "source": [
    "data = pd.read_csv(\"Reviews.csv\",nrows=100000)"
   ]
  },
  {
   "cell_type": "markdown",
   "metadata": {
    "id": "kGNQKvCaISIn"
   },
   "source": [
    "## Drop Duplicates and NA values"
   ]
  },
  {
   "cell_type": "code",
   "execution_count": 3,
   "metadata": {
    "execution": {
     "iopub.execute_input": "2021-07-18T10:06:19.532154Z",
     "iopub.status.busy": "2021-07-18T10:06:19.531613Z",
     "iopub.status.idle": "2021-07-18T10:06:19.657223Z",
     "shell.execute_reply": "2021-07-18T10:06:19.655957Z",
     "shell.execute_reply.started": "2021-07-18T10:06:19.532104Z"
    },
    "id": "Cjul88oOFxcr"
   },
   "outputs": [],
   "source": [
    "data.drop_duplicates(subset=['Text'],inplace=True)\n",
    "data.dropna(axis=0,inplace=True)"
   ]
  },
  {
   "cell_type": "code",
   "execution_count": null,
   "metadata": {},
   "outputs": [],
   "source": [
    "#text preprocessing"
   ]
  },
  {
   "cell_type": "code",
   "execution_count": 4,
   "metadata": {
    "execution": {
     "iopub.execute_input": "2021-07-18T10:06:19.707818Z",
     "iopub.status.busy": "2021-07-18T10:06:19.707224Z",
     "iopub.status.idle": "2021-07-18T10:06:19.725252Z",
     "shell.execute_reply": "2021-07-18T10:06:19.723806Z",
     "shell.execute_reply.started": "2021-07-18T10:06:19.707748Z"
    },
    "id": "0s6IY-x2FxdL"
   },
   "outputs": [],
   "source": [
    "contraction_mapping = {\"ain't\": \"is not\", \"aren't\": \"are not\",\"can't\": \"cannot\", \"'cause\": \"because\", \"could've\": \"could have\", \"couldn't\": \"could not\",\n",
    "                           \"didn't\": \"did not\",  \"doesn't\": \"does not\", \"don't\": \"do not\", \"hadn't\": \"had not\", \"hasn't\": \"has not\", \"haven't\": \"have not\",\n",
    "                           \"he'd\": \"he would\",\"he'll\": \"he will\", \"he's\": \"he is\", \"how'd\": \"how did\", \"how'd'y\": \"how do you\", \"how'll\": \"how will\", \"how's\": \"how is\",\n",
    "                           \"I'd\": \"I would\", \"I'd've\": \"I would have\", \"I'll\": \"I will\", \"I'll've\": \"I will have\",\"I'm\": \"I am\", \"I've\": \"I have\", \"i'd\": \"i would\",\n",
    "                           \"i'd've\": \"i would have\", \"i'll\": \"i will\",  \"i'll've\": \"i will have\",\"i'm\": \"i am\", \"i've\": \"i have\", \"isn't\": \"is not\", \"it'd\": \"it would\",\n",
    "                           \"it'd've\": \"it would have\", \"it'll\": \"it will\", \"it'll've\": \"it will have\",\"it's\": \"it is\", \"let's\": \"let us\", \"ma'am\": \"madam\",\n",
    "                           \"mayn't\": \"may not\", \"might've\": \"might have\",\"mightn't\": \"might not\",\"mightn't've\": \"might not have\", \"must've\": \"must have\",\n",
    "                           \"mustn't\": \"must not\", \"mustn't've\": \"must not have\", \"needn't\": \"need not\", \"needn't've\": \"need not have\",\"o'clock\": \"of the clock\",\n",
    "                           \"oughtn't\": \"ought not\", \"oughtn't've\": \"ought not have\", \"shan't\": \"shall not\", \"sha'n't\": \"shall not\", \"shan't've\": \"shall not have\",\n",
    "                           \"she'd\": \"she would\", \"she'd've\": \"she would have\", \"she'll\": \"she will\", \"she'll've\": \"she will have\", \"she's\": \"she is\",\n",
    "                           \"should've\": \"should have\", \"shouldn't\": \"should not\", \"shouldn't've\": \"should not have\", \"so've\": \"so have\",\"so's\": \"so as\",\n",
    "                           \"this's\": \"this is\",\"that'd\": \"that would\", \"that'd've\": \"that would have\", \"that's\": \"that is\", \"there'd\": \"there would\",\n",
    "                           \"there'd've\": \"there would have\", \"there's\": \"there is\", \"here's\": \"here is\",\"they'd\": \"they would\", \"they'd've\": \"they would have\",\n",
    "                           \"they'll\": \"they will\", \"they'll've\": \"they will have\", \"they're\": \"they are\", \"they've\": \"they have\", \"to've\": \"to have\",\n",
    "                           \"wasn't\": \"was not\", \"we'd\": \"we would\", \"we'd've\": \"we would have\", \"we'll\": \"we will\", \"we'll've\": \"we will have\", \"we're\": \"we are\",\n",
    "                           \"we've\": \"we have\", \"weren't\": \"were not\", \"what'll\": \"what will\", \"what'll've\": \"what will have\", \"what're\": \"what are\",\n",
    "                           \"what's\": \"what is\", \"what've\": \"what have\", \"when's\": \"when is\", \"when've\": \"when have\", \"where'd\": \"where did\", \"where's\": \"where is\",\n",
    "                           \"where've\": \"where have\", \"who'll\": \"who will\", \"who'll've\": \"who will have\", \"who's\": \"who is\", \"who've\": \"who have\",\n",
    "                           \"why's\": \"why is\", \"why've\": \"why have\", \"will've\": \"will have\", \"won't\": \"will not\", \"won't've\": \"will not have\",\n",
    "                           \"would've\": \"would have\", \"wouldn't\": \"would not\", \"wouldn't've\": \"would not have\", \"y'all\": \"you all\",\n",
    "                           \"y'all'd\": \"you all would\",\"y'all'd've\": \"you all would have\",\"y'all're\": \"you all are\",\"y'all've\": \"you all have\",\n",
    "                           \"you'd\": \"you would\", \"you'd've\": \"you would have\", \"you'll\": \"you will\", \"you'll've\": \"you will have\",\n",
    "                           \"you're\": \"you are\", \"you've\": \"you have\"}"
   ]
  },
  {
   "cell_type": "markdown",
   "metadata": {
    "id": "2JFRXFHmI7Mj"
   },
   "source": [
    "\n",
    "\n",
    "1.Convert everything to lowercase\n",
    "\n",
    "2.Remove HTML tags\n",
    "\n",
    "3.Contraction mapping\n",
    "\n",
    "4.Remove (‘s)\n",
    "\n",
    "5.Remove any text inside the parenthesis ( )\n",
    "\n",
    "6.Eliminate punctuations and special characters\n",
    "\n",
    "7.Remove stopwords\n",
    "\n",
    "8.Remove single characters\n"
   ]
  },
  {
   "cell_type": "code",
   "execution_count": 5,
   "metadata": {},
   "outputs": [],
   "source": [
    "stop_words = set(stopwords.words('english')) \n",
    "\n",
    "def text_cleaner(text,num):\n",
    "    # lower\n",
    "    newString = text.lower()\n",
    "    # remove HTML\n",
    "    newString = BeautifulSoup(newString, \"lxml\").text\n",
    "    # Remove any text inside the parenthesis\n",
    "    newString = re.sub(r'\\([^)]*\\)', '', newString)\n",
    "    # remove double quotes\n",
    "    newString = re.sub('\"','', newString)\n",
    "    # contraction mapping\n",
    "    newString = ' '.join([contraction_mapping[t] if t in contraction_mapping else t for t in newString.split(\" \")])  \n",
    "    # remove 's\n",
    "    newString = re.sub(r\"'s\\b\",\"\",newString)\n",
    "    # Eliminate punctuations and special characters\n",
    "    newString = re.sub(\"[^a-zA-Z]\", \" \", newString)\n",
    "    # Remove stopwords\n",
    "    if(num==0):\n",
    "        tokens = [w for w in newString.split() if not w in stop_words]\n",
    "    else:\n",
    "        tokens=newString.split()\n",
    "    long_words=[]\n",
    "    # Remove short words\n",
    "    for i in tokens:\n",
    "        if len(i)>1:                                                 \n",
    "            long_words.append(i)   \n",
    "    return (\" \".join(long_words)).strip()"
   ]
  },
  {
   "cell_type": "code",
   "execution_count": 6,
   "metadata": {
    "execution": {
     "iopub.execute_input": "2021-07-18T10:06:19.746650Z",
     "iopub.status.busy": "2021-07-18T10:06:19.746323Z",
     "iopub.status.idle": "2021-07-18T10:06:40.791858Z",
     "shell.execute_reply": "2021-07-18T10:06:40.790710Z",
     "shell.execute_reply.started": "2021-07-18T10:06:19.746619Z"
    },
    "id": "A2QAeCHWFxdY"
   },
   "outputs": [],
   "source": [
    "# Cleaning the \"Text\" Column\n",
    "\n",
    "cleaned_text = []\n",
    "for t in data['Text']:\n",
    "    cleaned_text.append(text_cleaner(t,0))"
   ]
  },
  {
   "cell_type": "markdown",
   "metadata": {
    "id": "snRZY8wjLao2"
   },
   "source": [
    "Let us look at the first 2 preprocessed reviews"
   ]
  },
  {
   "cell_type": "code",
   "execution_count": 7,
   "metadata": {
    "execution": {
     "iopub.execute_input": "2021-07-18T10:06:40.794101Z",
     "iopub.status.busy": "2021-07-18T10:06:40.793640Z",
     "iopub.status.idle": "2021-07-18T10:06:40.805621Z",
     "shell.execute_reply": "2021-07-18T10:06:40.804247Z",
     "shell.execute_reply.started": "2021-07-18T10:06:40.794048Z"
    },
    "id": "NCAIkhWbFxdh",
    "outputId": "c2da1a36-4488-4e32-ef9e-fcfe496e374d"
   },
   "outputs": [
    {
     "data": {
      "text/plain": [
       "['bought several vitality canned dog food products found good quality product looks like stew processed meat smells better labrador finicky appreciates product better',\n",
       " 'product arrived labeled jumbo salted peanuts peanuts actually small sized unsalted sure error vendor intended represent product jumbo']"
      ]
     },
     "execution_count": 7,
     "metadata": {},
     "output_type": "execute_result"
    }
   ],
   "source": [
    "cleaned_text[:2]  "
   ]
  },
  {
   "cell_type": "code",
   "execution_count": 8,
   "metadata": {
    "execution": {
     "iopub.execute_input": "2021-07-18T10:06:40.809550Z",
     "iopub.status.busy": "2021-07-18T10:06:40.808964Z",
     "iopub.status.idle": "2021-07-18T10:06:55.586273Z",
     "shell.execute_reply": "2021-07-18T10:06:55.585067Z",
     "shell.execute_reply.started": "2021-07-18T10:06:40.809458Z"
    },
    "id": "GsRXocxoFxd-"
   },
   "outputs": [],
   "source": [
    "# Cleaning the \"Summary\" Column\n",
    "\n",
    "cleaned_summary = []\n",
    "for t in data['Summary']:\n",
    "    cleaned_summary.append(text_cleaner(t,1))"
   ]
  },
  {
   "cell_type": "markdown",
   "metadata": {
    "id": "oZeD0gs6Lnb-"
   },
   "source": [
    "Let us look at the first 2 preprocessed summaries"
   ]
  },
  {
   "cell_type": "code",
   "execution_count": 9,
   "metadata": {
    "execution": {
     "iopub.execute_input": "2021-07-18T10:06:55.588381Z",
     "iopub.status.busy": "2021-07-18T10:06:55.587913Z",
     "iopub.status.idle": "2021-07-18T10:06:55.597768Z",
     "shell.execute_reply": "2021-07-18T10:06:55.596041Z",
     "shell.execute_reply.started": "2021-07-18T10:06:55.588336Z"
    },
    "id": "jQJdZcAzFxee",
    "outputId": "a1fbe683-c03f-4afb-addf-e075021c121b"
   },
   "outputs": [
    {
     "data": {
      "text/plain": [
       "['good quality dog food', 'not as advertised']"
      ]
     },
     "execution_count": 9,
     "metadata": {},
     "output_type": "execute_result"
    }
   ],
   "source": [
    "cleaned_summary[:2]"
   ]
  },
  {
   "cell_type": "code",
   "execution_count": 10,
   "metadata": {
    "execution": {
     "iopub.execute_input": "2021-07-18T10:06:55.600770Z",
     "iopub.status.busy": "2021-07-18T10:06:55.600226Z",
     "iopub.status.idle": "2021-07-18T10:06:55.626962Z",
     "shell.execute_reply": "2021-07-18T10:06:55.625731Z",
     "shell.execute_reply.started": "2021-07-18T10:06:55.600718Z"
    },
    "id": "L1zLpnqsFxey"
   },
   "outputs": [],
   "source": [
    "data['cleaned_text']=cleaned_text\n",
    "data['cleaned_summary']=cleaned_summary"
   ]
  },
  {
   "cell_type": "markdown",
   "metadata": {
    "id": "KT_D2cLiLy77"
   },
   "source": [
    "## Drop empty rows"
   ]
  },
  {
   "cell_type": "code",
   "execution_count": 11,
   "metadata": {
    "execution": {
     "iopub.execute_input": "2021-07-18T10:06:55.629482Z",
     "iopub.status.busy": "2021-07-18T10:06:55.628947Z",
     "iopub.status.idle": "2021-07-18T10:06:55.750104Z",
     "shell.execute_reply": "2021-07-18T10:06:55.748823Z",
     "shell.execute_reply.started": "2021-07-18T10:06:55.629408Z"
    },
    "id": "sYK390unFxfA"
   },
   "outputs": [],
   "source": [
    "data.replace('', np.nan, inplace=True)\n",
    "data.dropna(axis=0,inplace=True)"
   ]
  },
  {
   "cell_type": "markdown",
   "metadata": {
    "id": "Vm8Fk2TCL7Sp"
   },
   "source": [
    "## Understanding the distribution of the sequences\n",
    "\n",
    "Here, we will analyze the length of the reviews and the summary to get an overall idea about the distribution of length of the text. This will help us fix the maximum length of the sequence:"
   ]
  },
  {
   "cell_type": "code",
   "execution_count": 12,
   "metadata": {
    "execution": {
     "iopub.execute_input": "2021-07-18T10:06:55.752450Z",
     "iopub.status.busy": "2021-07-18T10:06:55.751924Z",
     "iopub.status.idle": "2021-07-18T10:06:56.401982Z",
     "shell.execute_reply": "2021-07-18T10:06:56.400405Z",
     "shell.execute_reply.started": "2021-07-18T10:06:55.752383Z"
    },
    "id": "MdF76AHHFxgw",
    "outputId": "e3bbe165-4235-482f-bfd4-36a3f1d95290"
   },
   "outputs": [
    {
     "data": {
      "image/png": "[encoded data removed]",
      "text/plain": [
       "<Figure size 432x288 with 2 Axes>"
      ]
     },
     "metadata": {
      "needs_background": "light"
     },
     "output_type": "display_data"
    }
   ],
   "source": [
    "import matplotlib.pyplot as plt\n",
    "\n",
    "text_word_count = []\n",
    "summary_word_count = []\n",
    "\n",
    "# populate the lists with sentence lengths\n",
    "for i in data['cleaned_text']:\n",
    "      text_word_count.append(len(i.split()))\n",
    "\n",
    "for i in data['cleaned_summary']:\n",
    "      summary_word_count.append(len(i.split()))\n",
    "\n",
    "length_df = pd.DataFrame({'text':text_word_count, 'summary':summary_word_count})\n",
    "\n",
    "length_df.hist(bins = 30)\n",
    "plt.show()"
   ]
  },
  {
   "cell_type": "markdown",
   "metadata": {
    "id": "QwdSGIhGMEbz"
   },
   "source": [
    "**NOTE: We can fix the maximum length of the summary to 8 since that seems to be the majority summary length.**"
   ]
  },
  {
   "cell_type": "markdown",
   "metadata": {},
   "source": [
    "Let us understand the proportion of the length of summaries below 8"
   ]
  },
  {
   "cell_type": "code",
   "execution_count": 13,
   "metadata": {
    "execution": {
     "iopub.execute_input": "2021-07-18T10:06:56.404800Z",
     "iopub.status.busy": "2021-07-18T10:06:56.404287Z",
     "iopub.status.idle": "2021-07-18T10:06:56.456934Z",
     "shell.execute_reply": "2021-07-18T10:06:56.455679Z",
     "shell.execute_reply.started": "2021-07-18T10:06:56.404742Z"
    },
    "id": "7JRjwdIOFxg3",
    "outputId": "f968be82-c539-471d-ce23-16f18b059ea0"
   },
   "outputs": [
    {
     "name": "stdout",
     "output_type": "stream",
     "text": [
      "0.9424907471335922\n"
     ]
    }
   ],
   "source": [
    "cnt=0\n",
    "for i in data['cleaned_summary']:\n",
    "    if(len(i.split()) <= 8):\n",
    "        cnt=cnt+1\n",
    "print(cnt/len(data['cleaned_summary']))"
   ]
  },
  {
   "cell_type": "markdown",
   "metadata": {
    "id": "yYB4Ga9KMjEu"
   },
   "source": [
    "**We observe that 94% of the summaries have length below 8. So, we can fix maximum length of summary to 8.**"
   ]
  },
  {
   "cell_type": "code",
   "execution_count": 14,
   "metadata": {
    "execution": {
     "iopub.execute_input": "2021-07-18T10:06:56.459474Z",
     "iopub.status.busy": "2021-07-18T10:06:56.458715Z",
     "iopub.status.idle": "2021-07-18T10:06:56.601550Z",
     "shell.execute_reply": "2021-07-18T10:06:56.600008Z",
     "shell.execute_reply.started": "2021-07-18T10:06:56.459394Z"
    }
   },
   "outputs": [
    {
     "name": "stdout",
     "output_type": "stream",
     "text": [
      "0.5496711978359046\n"
     ]
    }
   ],
   "source": [
    "cnt=0\n",
    "for i in data['cleaned_text']:\n",
    "    if(len(i.split()) <= 30):\n",
    "        cnt=cnt+1\n",
    "print(cnt/len(data['cleaned_text']))"
   ]
  },
  {
   "cell_type": "markdown",
   "metadata": {},
   "source": [
    "Let us fix the maximum length of review to 30"
   ]
  },
  {
   "cell_type": "code",
   "execution_count": 15,
   "metadata": {
    "execution": {
     "iopub.execute_input": "2021-07-18T10:06:56.604119Z",
     "iopub.status.busy": "2021-07-18T10:06:56.603684Z",
     "iopub.status.idle": "2021-07-18T10:06:56.609789Z",
     "shell.execute_reply": "2021-07-18T10:06:56.608132Z",
     "shell.execute_reply.started": "2021-07-18T10:06:56.604075Z"
    },
    "id": "ZKD5VOWqFxhC"
   },
   "outputs": [],
   "source": [
    "max_text_len=30\n",
    "max_summary_len=8"
   ]
  },
  {
   "cell_type": "markdown",
   "metadata": {
    "id": "E6d48E-8M4VO"
   },
   "source": [
    "Let us select the reviews and summaries whose length falls below or equal to **max_text_len** and **max_summary_len**"
   ]
  },
  {
   "cell_type": "code",
   "execution_count": 16,
   "metadata": {
    "execution": {
     "iopub.execute_input": "2021-07-18T10:06:56.618017Z",
     "iopub.status.busy": "2021-07-18T10:06:56.617609Z",
     "iopub.status.idle": "2021-07-18T10:06:56.810766Z",
     "shell.execute_reply": "2021-07-18T10:06:56.809616Z",
     "shell.execute_reply.started": "2021-07-18T10:06:56.617984Z"
    },
    "id": "yY0tEJP0FxhI"
   },
   "outputs": [],
   "source": [
    "cleaned_text =np.array(data['cleaned_text'])\n",
    "cleaned_summary=np.array(data['cleaned_summary'])\n",
    "\n",
    "short_text=[]\n",
    "short_summary=[]\n",
    "\n",
    "for i in range(len(cleaned_text)):\n",
    "    if(len(cleaned_summary[i].split())<=max_summary_len and len(cleaned_text[i].split())<=max_text_len):\n",
    "        short_text.append(cleaned_text[i])\n",
    "        short_summary.append(cleaned_summary[i])\n",
    "        \n",
    "df=pd.DataFrame({'text':short_text,'summary':short_summary}) # new dataframe to use"
   ]
  },
  {
   "cell_type": "code",
   "execution_count": 17,
   "metadata": {
    "execution": {
     "iopub.execute_input": "2021-07-18T10:06:56.815121Z",
     "iopub.status.busy": "2021-07-18T10:06:56.814614Z",
     "iopub.status.idle": "2021-07-18T10:06:56.820413Z",
     "shell.execute_reply": "2021-07-18T10:06:56.818859Z",
     "shell.execute_reply.started": "2021-07-18T10:06:56.815072Z"
    }
   },
   "outputs": [],
   "source": [
    "# add the START and END special tokens at the beginning and end of the summary. Here, We have chosen sostok and eostok as START and END tokens"
   ]
  },
  {
   "cell_type": "code",
   "execution_count": 18,
   "metadata": {
    "execution": {
     "iopub.execute_input": "2021-07-18T10:06:56.823071Z",
     "iopub.status.busy": "2021-07-18T10:06:56.822521Z",
     "iopub.status.idle": "2021-07-18T10:06:56.863828Z",
     "shell.execute_reply": "2021-07-18T10:06:56.862545Z",
     "shell.execute_reply.started": "2021-07-18T10:06:56.823021Z"
    }
   },
   "outputs": [
    {
     "data": {
      "text/html": [
       "<div>\n",
       "<style scoped>\n",
       "    .dataframe tbody tr th:only-of-type {\n",
       "        vertical-align: middle;\n",
       "    }\n",
       "\n",
       "    .dataframe tbody tr th {\n",
       "        vertical-align: top;\n",
       "    }\n",
       "\n",
       "    .dataframe thead th {\n",
       "        text-align: right;\n",
       "    }\n",
       "</style>\n",
       "<table border=\"1\" class=\"dataframe\">\n",
       "  <thead>\n",
       "    <tr style=\"text-align: right;\">\n",
       "      <th></th>\n",
       "      <th>text</th>\n",
       "      <th>summary</th>\n",
       "    </tr>\n",
       "  </thead>\n",
       "  <tbody>\n",
       "    <tr>\n",
       "      <th>0</th>\n",
       "      <td>bought several vitality canned dog food products found good quality product looks like stew processed meat smells better labrador finicky appreciates product better</td>\n",
       "      <td>sostok good quality dog food eostok</td>\n",
       "    </tr>\n",
       "    <tr>\n",
       "      <th>1</th>\n",
       "      <td>product arrived labeled jumbo salted peanuts peanuts actually small sized unsalted sure error vendor intended represent product jumbo</td>\n",
       "      <td>sostok not as advertised eostok</td>\n",
       "    </tr>\n",
       "    <tr>\n",
       "      <th>2</th>\n",
       "      <td>looking secret ingredient robitussin believe found got addition root beer extract ordered made cherry soda flavor medicinal</td>\n",
       "      <td>sostok cough medicine eostok</td>\n",
       "    </tr>\n",
       "    <tr>\n",
       "      <th>3</th>\n",
       "      <td>great taffy great price wide assortment yummy taffy delivery quick taffy lover deal</td>\n",
       "      <td>sostok great taffy eostok</td>\n",
       "    </tr>\n",
       "    <tr>\n",
       "      <th>4</th>\n",
       "      <td>saltwater taffy great flavors soft chewy candy individually wrapped well none candies stuck together happen expensive version fralinger would highly recommend candy served beach themed party every...</td>\n",
       "      <td>sostok great just as good as the expensive brands eostok</td>\n",
       "    </tr>\n",
       "  </tbody>\n",
       "</table>\n",
       "</div>"
      ],
      "text/plain": [
       "                                                                                                                                                                                                      text  \\\n",
       "0                                     bought several vitality canned dog food products found good quality product looks like stew processed meat smells better labrador finicky appreciates product better   \n",
       "1                                                                    product arrived labeled jumbo salted peanuts peanuts actually small sized unsalted sure error vendor intended represent product jumbo   \n",
       "2                                                                              looking secret ingredient robitussin believe found got addition root beer extract ordered made cherry soda flavor medicinal   \n",
       "3                                                                                                                      great taffy great price wide assortment yummy taffy delivery quick taffy lover deal   \n",
       "4  saltwater taffy great flavors soft chewy candy individually wrapped well none candies stuck together happen expensive version fralinger would highly recommend candy served beach themed party every...   \n",
       "\n",
       "                                                    summary  \n",
       "0                       sostok good quality dog food eostok  \n",
       "1                           sostok not as advertised eostok  \n",
       "2                              sostok cough medicine eostok  \n",
       "3                                 sostok great taffy eostok  \n",
       "4  sostok great just as good as the expensive brands eostok  "
      ]
     },
     "execution_count": 18,
     "metadata": {},
     "output_type": "execute_result"
    }
   ],
   "source": [
    "df['summary'] = df['summary'].apply(lambda x : 'sostok '+ x + ' eostok')\n",
    "df.head()"
   ]
  },
  {
   "cell_type": "markdown",
   "metadata": {},
   "source": [
    "## Train-Test Split and Prepare the Tokenizer"
   ]
  },
  {
   "cell_type": "code",
   "execution_count": 19,
   "metadata": {
    "execution": {
     "iopub.execute_input": "2021-07-18T10:06:56.865985Z",
     "iopub.status.busy": "2021-07-18T10:06:56.865559Z",
     "iopub.status.idle": "2021-07-18T10:06:56.878675Z",
     "shell.execute_reply": "2021-07-18T10:06:56.876986Z",
     "shell.execute_reply.started": "2021-07-18T10:06:56.865940Z"
    },
    "id": "RakakKHcFxhl"
   },
   "outputs": [],
   "source": [
    "from sklearn.model_selection import train_test_split\n",
    "\n",
    "x_tr,x_val,y_tr,y_val=train_test_split(np.array(df['text']), np.array(df['summary']),\n",
    "                                       test_size=0.1, random_state=0, shuffle=True) \n",
    "\n",
    "# A tokenizer builds the vocabulary and converts a word sequence to an integer sequence.\n",
    "# We will now build tokenizers for text and summary.\n",
    "\n",
    "x_tokenizer = Tokenizer() \n",
    "x_tokenizer.fit_on_texts(list(x_tr))"
   ]
  },
  {
   "cell_type": "markdown",
   "metadata": {
    "id": "RzvLwYL_PDcx"
   },
   "source": [
    "## Rarewords and its Coverage on Reviews column\n",
    "\n",
    "The threshold is taken as 4 which means word whose count is below 4 is considered as a **rare word**"
   ]
  },
  {
   "cell_type": "code",
   "execution_count": 20,
   "metadata": {
    "execution": {
     "iopub.execute_input": "2021-07-18T10:06:57.491921Z",
     "iopub.status.busy": "2021-07-18T10:06:57.491464Z",
     "iopub.status.idle": "2021-07-18T10:06:57.514348Z",
     "shell.execute_reply": "2021-07-18T10:06:57.512850Z",
     "shell.execute_reply.started": "2021-07-18T10:06:57.491873Z"
    },
    "id": "y8KronV2Fxhx",
    "outputId": "d2eb2f27-fbbc-4e61-9556-3c3ff5e4327b",
    "scrolled": true
   },
   "outputs": [
    {
     "name": "stdout",
     "output_type": "stream",
     "text": [
      "% of rare words in vocabulary: 66.10930670836842\n",
      "Total Coverage of rare words: 2.9565395691202405\n"
     ]
    }
   ],
   "source": [
    "thresh=4\n",
    "\n",
    "cnt=0\n",
    "tot_cnt=0\n",
    "freq=0\n",
    "tot_freq=0\n",
    "\n",
    "for key,value in x_tokenizer.word_counts.items():\n",
    "    tot_cnt=tot_cnt+1\n",
    "    tot_freq=tot_freq+value\n",
    "    if(value<thresh):\n",
    "        cnt=cnt+1\n",
    "        freq=freq+value\n",
    "    \n",
    "print(\"% of rare words in vocabulary:\", (cnt/tot_cnt)*100)\n",
    "print(\"Total Coverage of rare words:\", (freq/tot_freq)*100)"
   ]
  },
  {
   "cell_type": "code",
   "execution_count": 21,
   "metadata": {
    "execution": {
     "iopub.execute_input": "2021-07-18T10:06:57.517335Z",
     "iopub.status.busy": "2021-07-18T10:06:57.516818Z",
     "iopub.status.idle": "2021-07-18T10:06:57.531064Z",
     "shell.execute_reply": "2021-07-18T10:06:57.529673Z",
     "shell.execute_reply.started": "2021-07-18T10:06:57.517289Z"
    }
   },
   "outputs": [
    {
     "name": "stdout",
     "output_type": "stream",
     "text": [
      "16487\n",
      "24939\n"
     ]
    },
    {
     "data": {
      "text/plain": [
       "(None, None)"
      ]
     },
     "execution_count": 21,
     "metadata": {},
     "output_type": "execute_result"
    }
   ],
   "source": [
    "print(cnt),print(tot_cnt)"
   ]
  },
  {
   "cell_type": "code",
   "execution_count": 22,
   "metadata": {
    "execution": {
     "iopub.execute_input": "2021-07-18T10:06:57.533644Z",
     "iopub.status.busy": "2021-07-18T10:06:57.533153Z",
     "iopub.status.idle": "2021-07-18T10:06:57.546408Z",
     "shell.execute_reply": "2021-07-18T10:06:57.544904Z",
     "shell.execute_reply.started": "2021-07-18T10:06:57.533597Z"
    }
   },
   "outputs": [
    {
     "name": "stdout",
     "output_type": "stream",
     "text": [
      "22782\n",
      "770563\n"
     ]
    },
    {
     "data": {
      "text/plain": [
       "(None, None)"
      ]
     },
     "execution_count": 22,
     "metadata": {},
     "output_type": "execute_result"
    }
   ],
   "source": [
    "print(freq),print(tot_freq)"
   ]
  },
  {
   "cell_type": "markdown",
   "metadata": {
    "id": "So-J-5kzQIeO"
   },
   "source": [
    "NOTE:\n",
    "\n",
    "* **tot_cnt** gives the size of vocabulary (which means every unique words in the text)\n",
    " \n",
    "*   **cnt** gives me the no. of rare words whose count falls below threshold\n",
    "\n",
    "*  **tot_cnt - cnt** gives me the top most common words "
   ]
  },
  {
   "cell_type": "markdown",
   "metadata": {},
   "source": [
    "Let us define the tokenizer with **top most common words** for reviews."
   ]
  },
  {
   "cell_type": "markdown",
   "metadata": {},
   "source": [
    "## Reviews Tokenizer"
   ]
  },
  {
   "cell_type": "code",
   "execution_count": 23,
   "metadata": {
    "execution": {
     "iopub.execute_input": "2021-07-18T10:06:57.549081Z",
     "iopub.status.busy": "2021-07-18T10:06:57.548600Z",
     "iopub.status.idle": "2021-07-18T10:06:58.873716Z",
     "shell.execute_reply": "2021-07-18T10:06:58.872576Z",
     "shell.execute_reply.started": "2021-07-18T10:06:57.549033Z"
    },
    "id": "J2giEsF3Fxh3"
   },
   "outputs": [],
   "source": [
    "# prepare a tokenizer for reviews on training data\n",
    "\n",
    "x_tokenizer = Tokenizer(num_words=tot_cnt-cnt) # num_words: the maximum number of words to keep, based on word frequency.\n",
    "x_tokenizer.fit_on_texts(list(x_tr))\n",
    "\n",
    "#convert text sequences into integer sequences\n",
    "x_tr_seq    =   x_tokenizer.texts_to_sequences(x_tr) \n",
    "x_val_seq   =   x_tokenizer.texts_to_sequences(x_val)\n",
    "\n",
    "#padding zero upto maximum length\n",
    "x_tr    =   pad_sequences(x_tr_seq,  maxlen=max_text_len, padding='post')\n",
    "x_val   =   pad_sequences(x_val_seq, maxlen=max_text_len, padding='post')\n",
    "\n",
    "#size of vocabulary ( +1 for padding token)\n",
    "x_voc   =  x_tokenizer.num_words + 1"
   ]
  },
  {
   "cell_type": "code",
   "execution_count": 24,
   "metadata": {
    "execution": {
     "iopub.execute_input": "2021-07-18T10:06:58.875876Z",
     "iopub.status.busy": "2021-07-18T10:06:58.875395Z",
     "iopub.status.idle": "2021-07-18T10:06:58.884195Z",
     "shell.execute_reply": "2021-07-18T10:06:58.882676Z",
     "shell.execute_reply.started": "2021-07-18T10:06:58.875828Z"
    },
    "id": "DCbGMsm4FxiA",
    "outputId": "2d9165f0-e542-4114-91f3-e070d483fce9"
   },
   "outputs": [
    {
     "data": {
      "text/plain": [
       "8453"
      ]
     },
     "execution_count": 24,
     "metadata": {},
     "output_type": "execute_result"
    }
   ],
   "source": [
    "x_voc"
   ]
  },
  {
   "cell_type": "markdown",
   "metadata": {
    "id": "uQfKP3sqRxi9"
   },
   "source": [
    "## Summary Tokenizer"
   ]
  },
  {
   "cell_type": "code",
   "execution_count": 25,
   "metadata": {
    "execution": {
     "iopub.execute_input": "2021-07-18T10:06:58.886833Z",
     "iopub.status.busy": "2021-07-18T10:06:58.886317Z",
     "iopub.status.idle": "2021-07-18T10:06:59.186345Z",
     "shell.execute_reply": "2021-07-18T10:06:59.185182Z",
     "shell.execute_reply.started": "2021-07-18T10:06:58.886781Z"
    },
    "id": "eRHqyBkBFxiJ"
   },
   "outputs": [],
   "source": [
    "#prepare a tokenizer for reviews on training data\n",
    "\n",
    "y_tokenizer = Tokenizer()   \n",
    "y_tokenizer.fit_on_texts(list(y_tr))"
   ]
  },
  {
   "cell_type": "markdown",
   "metadata": {
    "id": "KInA6O6ZSkJz"
   },
   "source": [
    "## Rarewords and its Coverage on the summary column\n",
    "\n",
    "The threshold is taken as 6 which means word whose count is below 6 is considered as a **rare word**"
   ]
  },
  {
   "cell_type": "code",
   "execution_count": 26,
   "metadata": {
    "execution": {
     "iopub.execute_input": "2021-07-18T10:06:59.188565Z",
     "iopub.status.busy": "2021-07-18T10:06:59.188065Z",
     "iopub.status.idle": "2021-07-18T10:06:59.202000Z",
     "shell.execute_reply": "2021-07-18T10:06:59.200517Z",
     "shell.execute_reply.started": "2021-07-18T10:06:59.188509Z"
    },
    "id": "yzE5OiRLFxiM",
    "outputId": "7f7a4f89-b088-4847-8172-09e5a2383d0e"
   },
   "outputs": [
    {
     "name": "stdout",
     "output_type": "stream",
     "text": [
      "% of rare words in vocabulary: 78.11986413936671\n",
      "Total Coverage of rare words: 5.411532907788019\n"
     ]
    }
   ],
   "source": [
    "thresh=6\n",
    "\n",
    "cnt=0\n",
    "tot_cnt=0\n",
    "freq=0\n",
    "tot_freq=0\n",
    "\n",
    "for key,value in y_tokenizer.word_counts.items():\n",
    "    tot_cnt=tot_cnt+1\n",
    "    tot_freq=tot_freq+value\n",
    "    if(value<thresh):\n",
    "        cnt=cnt+1\n",
    "        freq=freq+value\n",
    "    \n",
    "print(\"% of rare words in vocabulary:\",(cnt/tot_cnt)*100)\n",
    "print(\"Total Coverage of rare words:\",(freq/tot_freq)*100)"
   ]
  },
  {
   "cell_type": "code",
   "execution_count": 27,
   "metadata": {
    "execution": {
     "iopub.execute_input": "2021-07-18T10:06:59.204715Z",
     "iopub.status.busy": "2021-07-18T10:06:59.203774Z",
     "iopub.status.idle": "2021-07-18T10:06:59.218072Z",
     "shell.execute_reply": "2021-07-18T10:06:59.216242Z",
     "shell.execute_reply.started": "2021-07-18T10:06:59.204667Z"
    }
   },
   "outputs": [
    {
     "name": "stdout",
     "output_type": "stream",
     "text": [
      "7130\n",
      "9127\n"
     ]
    },
    {
     "data": {
      "text/plain": [
       "(None, None)"
      ]
     },
     "execution_count": 27,
     "metadata": {},
     "output_type": "execute_result"
    }
   ],
   "source": [
    "print(cnt),print(tot_cnt)"
   ]
  },
  {
   "cell_type": "code",
   "execution_count": 28,
   "metadata": {
    "execution": {
     "iopub.execute_input": "2021-07-18T10:06:59.220894Z",
     "iopub.status.busy": "2021-07-18T10:06:59.220270Z",
     "iopub.status.idle": "2021-07-18T10:06:59.230525Z",
     "shell.execute_reply": "2021-07-18T10:06:59.228867Z",
     "shell.execute_reply.started": "2021-07-18T10:06:59.220846Z"
    }
   },
   "outputs": [
    {
     "name": "stdout",
     "output_type": "stream",
     "text": [
      "12030\n",
      "222303\n"
     ]
    },
    {
     "data": {
      "text/plain": [
       "(None, None)"
      ]
     },
     "execution_count": 28,
     "metadata": {},
     "output_type": "execute_result"
    }
   ],
   "source": [
    "print(freq),print(tot_freq)"
   ]
  },
  {
   "cell_type": "markdown",
   "metadata": {
    "id": "0PBhzKuRSw_9"
   },
   "source": [
    "Let us define the tokenizer with **top most common words for summary**."
   ]
  },
  {
   "cell_type": "code",
   "execution_count": 29,
   "metadata": {
    "execution": {
     "iopub.execute_input": "2021-07-18T10:06:59.233596Z",
     "iopub.status.busy": "2021-07-18T10:06:59.232917Z",
     "iopub.status.idle": "2021-07-18T10:07:00.003463Z",
     "shell.execute_reply": "2021-07-18T10:07:00.002152Z",
     "shell.execute_reply.started": "2021-07-18T10:06:59.233542Z"
    },
    "id": "-fswLvIgFxiR"
   },
   "outputs": [],
   "source": [
    "#prepare a tokenizer for reviews on training data\n",
    "y_tokenizer = Tokenizer(num_words=tot_cnt-cnt) \n",
    "y_tokenizer.fit_on_texts(list(y_tr))\n",
    "\n",
    "#convert text sequences into integer sequences\n",
    "y_tr_seq    =   y_tokenizer.texts_to_sequences(y_tr) \n",
    "y_val_seq   =   y_tokenizer.texts_to_sequences(y_val) \n",
    "\n",
    "#padding zero upto maximum length\n",
    "y_tr    =   pad_sequences(y_tr_seq, maxlen=max_summary_len, padding='post')\n",
    "y_val   =   pad_sequences(y_val_seq, maxlen=max_summary_len, padding='post')\n",
    "\n",
    "#size of vocabulary\n",
    "y_voc  =   y_tokenizer.num_words +1"
   ]
  },
  {
   "cell_type": "code",
   "execution_count": 30,
   "metadata": {
    "execution": {
     "iopub.execute_input": "2021-07-18T10:07:00.005758Z",
     "iopub.status.busy": "2021-07-18T10:07:00.005248Z",
     "iopub.status.idle": "2021-07-18T10:07:00.010894Z",
     "shell.execute_reply": "2021-07-18T10:07:00.009558Z",
     "shell.execute_reply.started": "2021-07-18T10:07:00.005708Z"
    }
   },
   "outputs": [],
   "source": [
    "#deleting the rows that contain only START and END tokens"
   ]
  },
  {
   "cell_type": "code",
   "execution_count": 31,
   "metadata": {
    "execution": {
     "iopub.execute_input": "2021-07-18T10:07:00.013615Z",
     "iopub.status.busy": "2021-07-18T10:07:00.012739Z",
     "iopub.status.idle": "2021-07-18T10:07:00.879576Z",
     "shell.execute_reply": "2021-07-18T10:07:00.878385Z",
     "shell.execute_reply.started": "2021-07-18T10:07:00.013566Z"
    }
   },
   "outputs": [],
   "source": [
    "ind=[]\n",
    "for i in range(len(y_tr)):\n",
    "    cnt=0\n",
    "    for j in y_tr[i]:\n",
    "        if j!=0:\n",
    "            cnt=cnt+1\n",
    "    if(cnt==2):\n",
    "        ind.append(i)\n",
    "\n",
    "y_tr=np.delete(y_tr,ind, axis=0)\n",
    "x_tr=np.delete(x_tr,ind, axis=0)"
   ]
  },
  {
   "cell_type": "code",
   "execution_count": 32,
   "metadata": {
    "execution": {
     "iopub.execute_input": "2021-07-18T10:07:00.882443Z",
     "iopub.status.busy": "2021-07-18T10:07:00.881592Z",
     "iopub.status.idle": "2021-07-18T10:07:00.989297Z",
     "shell.execute_reply": "2021-07-18T10:07:00.988292Z",
     "shell.execute_reply.started": "2021-07-18T10:07:00.882393Z"
    }
   },
   "outputs": [],
   "source": [
    "ind=[]\n",
    "for i in range(len(y_val)):\n",
    "    cnt=0\n",
    "    for j in y_val[i]:\n",
    "        if j!=0:\n",
    "            cnt=cnt+1\n",
    "    if(cnt==2):\n",
    "        ind.append(i)\n",
    "\n",
    "y_val=np.delete(y_val,ind, axis=0)\n",
    "x_val=np.delete(x_val,ind, axis=0)"
   ]
  },
  {
   "cell_type": "code",
   "execution_count": null,
   "metadata": {},
   "outputs": [],
   "source": [
    "# seq2seq model with LSTM attention layer"
   ]
  },
  {
   "cell_type": "code",
   "execution_count": 33,
   "metadata": {},
   "outputs": [],
   "source": [
    "from tensorflow.python.framework.ops import disable_eager_execution\n",
    "\n",
    "disable_eager_execution()"
   ]
  },
  {
   "cell_type": "code",
   "execution_count": 34,
   "metadata": {
    "execution": {
     "iopub.execute_input": "2021-07-18T10:07:00.991555Z",
     "iopub.status.busy": "2021-07-18T10:07:00.991047Z",
     "iopub.status.idle": "2021-07-18T10:07:01.877305Z",
     "shell.execute_reply": "2021-07-18T10:07:01.876235Z",
     "shell.execute_reply.started": "2021-07-18T10:07:00.991508Z"
    },
    "id": "zXef38nBFxir",
    "outputId": "7ae99521-46f8-4c6f-9cba-4979deffeee8"
   },
   "outputs": [
    {
     "name": "stdout",
     "output_type": "stream",
     "text": [
      "Model: \"model\"\n",
      "__________________________________________________________________________________________________\n",
      "Layer (type)                    Output Shape         Param #     Connected to                     \n",
      "==================================================================================================\n",
      "input_1 (InputLayer)            [(None, 30)]         0                                            \n",
      "__________________________________________________________________________________________________\n",
      "embedding (Embedding)           (None, 30, 100)      845300      input_1[0][0]                    \n",
      "__________________________________________________________________________________________________\n",
      "lstm (LSTM)                     [(None, 30, 300), (N 481200      embedding[0][0]                  \n",
      "__________________________________________________________________________________________________\n",
      "input_2 (InputLayer)            [(None, None)]       0                                            \n",
      "__________________________________________________________________________________________________\n",
      "lstm_1 (LSTM)                   [(None, 30, 300), (N 721200      lstm[0][0]                       \n",
      "__________________________________________________________________________________________________\n",
      "embedding_1 (Embedding)         (None, None, 100)    199800      input_2[0][0]                    \n",
      "__________________________________________________________________________________________________\n",
      "lstm_2 (LSTM)                   [(None, 30, 300), (N 721200      lstm_1[0][0]                     \n",
      "__________________________________________________________________________________________________\n",
      "lstm_3 (LSTM)                   [(None, None, 300),  481200      embedding_1[0][0]                \n",
      "                                                                 lstm_2[0][1]                     \n",
      "                                                                 lstm_2[0][2]                     \n",
      "__________________________________________________________________________________________________\n",
      "attention_layer (AttentionLayer ((None, None, 300),  180300      lstm_2[0][0]                     \n",
      "                                                                 lstm_3[0][0]                     \n",
      "__________________________________________________________________________________________________\n",
      "concat_layer (Concatenate)      (None, None, 600)    0           lstm_3[0][0]                     \n",
      "                                                                 attention_layer[0][0]            \n",
      "__________________________________________________________________________________________________\n",
      "time_distributed (TimeDistribut (None, None, 1998)   1200798     concat_layer[0][0]               \n",
      "==================================================================================================\n",
      "Total params: 4,830,998\n",
      "Trainable params: 4,830,998\n",
      "Non-trainable params: 0\n",
      "__________________________________________________________________________________________________\n"
     ]
    }
   ],
   "source": [
    "latent_dim = 300\n",
    "embedding_dim=100\n",
    "\n",
    "# Encoder\n",
    "encoder_inputs = Input(shape=(max_text_len,))\n",
    "\n",
    "#embedding layer\n",
    "enc_emb =  Embedding(x_voc, embedding_dim,trainable=True)(encoder_inputs)\n",
    "\n",
    "#encoder lstm 1\n",
    "encoder_lstm1 = LSTM(latent_dim,return_sequences=True,return_state=True,dropout=0.4,recurrent_dropout=0.4)\n",
    "encoder_output1, state_h1, state_c1 = encoder_lstm1(enc_emb)\n",
    "\n",
    "#encoder lstm 2\n",
    "encoder_lstm2 = LSTM(latent_dim,return_sequences=True,return_state=True,dropout=0.4,recurrent_dropout=0.4)\n",
    "encoder_output2, state_h2, state_c2 = encoder_lstm2(encoder_output1)\n",
    "\n",
    "#encoder lstm 3\n",
    "encoder_lstm3=LSTM(latent_dim, return_state=True, return_sequences=True,dropout=0.4,recurrent_dropout=0.4)\n",
    "encoder_outputs, state_h, state_c= encoder_lstm3(encoder_output2)\n",
    "\n",
    "# Set up the decoder, using `encoder_states` as initial state.\n",
    "decoder_inputs = Input(shape=(None,))\n",
    "\n",
    "#embedding layer\n",
    "dec_emb_layer = Embedding(y_voc, embedding_dim,trainable=True)\n",
    "dec_emb = dec_emb_layer(decoder_inputs)\n",
    "\n",
    "decoder_lstm = LSTM(latent_dim, return_sequences=True, return_state=True,dropout=0.4,recurrent_dropout=0.2)\n",
    "decoder_outputs,decoder_fwd_state, decoder_back_state = decoder_lstm(dec_emb,initial_state=[state_h, state_c])\n",
    "\n",
    "# Attention layer\n",
    "attn_layer = AttentionLayer(name='attention_layer')\n",
    "attn_out, attn_states = attn_layer([encoder_outputs, decoder_outputs])\n",
    "\n",
    "# Concat attention input and decoder LSTM output\n",
    "decoder_concat_input = Concatenate(axis=-1, name='concat_layer')([decoder_outputs, attn_out])\n",
    "\n",
    "#dense layer\n",
    "decoder_dense =  TimeDistributed(Dense(y_voc, activation='softmax'))\n",
    "decoder_outputs = decoder_dense(decoder_concat_input)\n",
    "\n",
    "# Define the model \n",
    "model = Model([encoder_inputs, decoder_inputs], decoder_outputs)\n",
    "\n",
    "model.summary() "
   ]
  },
  {
   "cell_type": "markdown",
   "metadata": {
    "id": "0ZVlfRuMUcoP"
   },
   "source": [
    "Sparse categorical cross-entropy as the loss function since it converts the integer sequence to a one-hot vector on the fly. This overcomes any memory issues."
   ]
  },
  {
   "cell_type": "code",
   "execution_count": 35,
   "metadata": {
    "execution": {
     "iopub.execute_input": "2021-07-18T10:07:01.879631Z",
     "iopub.status.busy": "2021-07-18T10:07:01.879104Z",
     "iopub.status.idle": "2021-07-18T10:07:01.896268Z",
     "shell.execute_reply": "2021-07-18T10:07:01.894848Z",
     "shell.execute_reply.started": "2021-07-18T10:07:01.879573Z"
    },
    "id": "Lwfi1Fm8Fxiz"
   },
   "outputs": [],
   "source": [
    "model.compile(optimizer='rmsprop', loss='sparse_categorical_crossentropy',experimental_run_tf_function=False)"
   ]
  },
  {
   "cell_type": "markdown",
   "metadata": {
    "id": "p0ykDbxfUhyw"
   },
   "source": [
    "EarlyStopping monitors the validation loss (val_loss). Our model will stop training once the validation loss increases."
   ]
  },
  {
   "cell_type": "code",
   "execution_count": 36,
   "metadata": {
    "execution": {
     "iopub.execute_input": "2021-07-18T10:07:01.899239Z",
     "iopub.status.busy": "2021-07-18T10:07:01.898305Z",
     "iopub.status.idle": "2021-07-18T10:07:01.908928Z",
     "shell.execute_reply": "2021-07-18T10:07:01.907619Z",
     "shell.execute_reply.started": "2021-07-18T10:07:01.899193Z"
    },
    "id": "s-A3J92MUljB"
   },
   "outputs": [],
   "source": [
    "es = EarlyStopping(monitor='val_loss', mode='min', verbose=1,patience=2)"
   ]
  },
  {
   "cell_type": "code",
   "execution_count": 37,
   "metadata": {},
   "outputs": [
    {
     "data": {
      "text/plain": [
       "'2.5.0'"
      ]
     },
     "execution_count": 37,
     "metadata": {},
     "output_type": "execute_result"
    }
   ],
   "source": [
    "\n",
    "import keras\n",
    "keras.__version__\n"
   ]
  },
  {
   "cell_type": "code",
   "execution_count": null,
   "metadata": {},
   "outputs": [],
   "source": []
  },
  {
   "cell_type": "code",
   "execution_count": 38,
   "metadata": {},
   "outputs": [],
   "source": [
    "#pip install keras==2.4.0"
   ]
  },
  {
   "cell_type": "markdown",
   "metadata": {
    "id": "Mw6CVECaUq5b"
   },
   "source": [
    "Fit the model"
   ]
  },
  {
   "cell_type": "code",
   "execution_count": 39,
   "metadata": {
    "execution": {
     "iopub.execute_input": "2021-07-18T10:07:01.911287Z",
     "iopub.status.busy": "2021-07-18T10:07:01.910715Z",
     "iopub.status.idle": "2021-07-18T10:37:14.840340Z",
     "shell.execute_reply": "2021-07-18T10:37:14.839385Z",
     "shell.execute_reply.started": "2021-07-18T10:07:01.911229Z"
    },
    "id": "ETnPzA4OFxi3",
    "outputId": "477e374f-7cf2-4d60-f86e-2c49c9cebedb"
   },
   "outputs": [
    {
     "name": "stdout",
     "output_type": "stream",
     "text": [
      "Train on 41320 samples, validate on 4583 samples\n",
      "Epoch 1/20\n",
      "41320/41320 [==============================] - 359s 9ms/sample - loss: 3.3292 - val_loss: 2.8527\n",
      "Epoch 2/20\n",
      "41320/41320 [==============================] - 422s 10ms/sample - loss: 2.7643 - val_loss: 2.7032\n",
      "Epoch 3/20\n",
      "41320/41320 [==============================] - 453s 11ms/sample - loss: 2.6448 - val_loss: 2.6160\n",
      "Epoch 4/20\n",
      "41320/41320 [==============================] - 470s 11ms/sample - loss: 2.5736 - val_loss: 2.5927\n",
      "Epoch 5/20\n",
      "41320/41320 [==============================] - 469s 11ms/sample - loss: 2.5217 - val_loss: 2.5630\n",
      "Epoch 6/20\n",
      "41320/41320 [==============================] - 469s 11ms/sample - loss: 2.4560 - val_loss: 2.4774\n",
      "Epoch 7/20\n",
      "41320/41320 [==============================] - 475s 12ms/sample - loss: 2.3787 - val_loss: 2.4041\n",
      "Epoch 8/20\n",
      "41320/41320 [==============================] - 463s 11ms/sample - loss: 2.3109 - val_loss: 2.3581\n",
      "Epoch 9/20\n",
      "41320/41320 [==============================] - 473s 11ms/sample - loss: 2.2490 - val_loss: 2.3416\n",
      "Epoch 10/20\n",
      "41320/41320 [==============================] - 467s 11ms/sample - loss: 2.1967 - val_loss: 2.2727\n",
      "Epoch 11/20\n",
      "41320/41320 [==============================] - 506s 12ms/sample - loss: 2.1491 - val_loss: 2.2854\n",
      "Epoch 12/20\n",
      "41320/41320 [==============================] - 505s 12ms/sample - loss: 2.1051 - val_loss: 2.2197\n",
      "Epoch 13/20\n",
      "41320/41320 [==============================] - 488s 12ms/sample - loss: 2.0647 - val_loss: 2.2265\n",
      "Epoch 14/20\n",
      "41320/41320 [==============================] - 474s 11ms/sample - loss: 2.0278 - val_loss: 2.1809\n",
      "Epoch 15/20\n",
      "41320/41320 [==============================] - 468s 11ms/sample - loss: 1.9922 - val_loss: 2.2078\n",
      "Epoch 16/20\n",
      "41320/41320 [==============================] - 461s 11ms/sample - loss: 1.9613 - val_loss: 2.1684\n",
      "Epoch 17/20\n",
      "41320/41320 [==============================] - 476s 12ms/sample - loss: 1.9283 - val_loss: 2.1419\n",
      "Epoch 18/20\n",
      "41320/41320 [==============================] - 461s 11ms/sample - loss: 1.8985 - val_loss: 2.1506\n",
      "Epoch 19/20\n",
      "41320/41320 [==============================] - 463s 11ms/sample - loss: 1.8713 - val_loss: 2.1924\n",
      "Epoch 00019: early stopping\n"
     ]
    }
   ],
   "source": [
    "history=model.fit([x_tr, y_tr[:,:-1]], \n",
    "                  y_tr.reshape(y_tr.shape[0], y_tr.shape[1], 1)[:,1:],\n",
    "                  epochs=20,\n",
    "                  callbacks=[es],\n",
    "                  batch_size=700, \n",
    "                  validation_data=([x_val,y_val[:,:-1]], y_val.reshape(y_val.shape[0],y_val.shape[1], 1)[:,1:])\n",
    "                 )"
   ]
  },
  {
   "cell_type": "markdown",
   "metadata": {
    "id": "0ezKYOp2UxG5"
   },
   "source": [
    "## Understanding the Diagnostic plot"
   ]
  },
  {
   "cell_type": "code",
   "execution_count": 40,
   "metadata": {
    "execution": {
     "iopub.execute_input": "2021-07-18T10:37:14.842346Z",
     "iopub.status.busy": "2021-07-18T10:37:14.842043Z",
     "iopub.status.idle": "2021-07-18T10:37:15.049505Z",
     "shell.execute_reply": "2021-07-18T10:37:15.048533Z",
     "shell.execute_reply.started": "2021-07-18T10:37:14.842300Z"
    },
    "id": "tDTNLAURFxjE",
    "outputId": "e2ea6e44-3931-4014-97a1-03fa2a441228"
   },
   "outputs": [
    {
     "data": {
      "image/png": "[encoded data removed]",
      "text/plain": [
       "<Figure size 432x288 with 1 Axes>"
      ]
     },
     "metadata": {
      "needs_background": "light"
     },
     "output_type": "display_data"
    }
   ],
   "source": [
    "from matplotlib import pyplot\n",
    "pyplot.plot(history.history['loss'], label='train')\n",
    "pyplot.plot(history.history['val_loss'], label='test')\n",
    "pyplot.legend()\n",
    "pyplot.show()"
   ]
  },
  {
   "cell_type": "markdown",
   "metadata": {
    "id": "HSyx-HvpUz2o"
   },
   "source": [
    "Next, let’s build the dictionary to convert the index to word for target and source vocabulary:"
   ]
  },
  {
   "cell_type": "code",
   "execution_count": 41,
   "metadata": {
    "execution": {
     "iopub.execute_input": "2021-07-18T10:37:15.051913Z",
     "iopub.status.busy": "2021-07-18T10:37:15.051622Z",
     "iopub.status.idle": "2021-07-18T10:37:15.059555Z",
     "shell.execute_reply": "2021-07-18T10:37:15.058510Z",
     "shell.execute_reply.started": "2021-07-18T10:37:15.051885Z"
    },
    "id": "sBX0zZnOFxjW"
   },
   "outputs": [],
   "source": [
    "reverse_target_word_index=y_tokenizer.index_word\n",
    "reverse_source_word_index=x_tokenizer.index_word\n",
    "target_word_index=y_tokenizer.word_index"
   ]
  },
  {
   "cell_type": "markdown",
   "metadata": {
    "id": "eM_nU_VvFxjq"
   },
   "source": [
    "## Inference\n",
    "\n",
    "Set up the inference for the encoder and decoder:"
   ]
  },
  {
   "cell_type": "code",
   "execution_count": 42,
   "metadata": {
    "execution": {
     "iopub.execute_input": "2021-07-18T10:37:15.062156Z",
     "iopub.status.busy": "2021-07-18T10:37:15.061848Z",
     "iopub.status.idle": "2021-07-18T10:37:15.454635Z",
     "shell.execute_reply": "2021-07-18T10:37:15.450954Z",
     "shell.execute_reply.started": "2021-07-18T10:37:15.062129Z"
    },
    "id": "9QkrNV-4Fxjt"
   },
   "outputs": [],
   "source": [
    "# Encode the input sequence to get the feature vector\n",
    "encoder_model = Model(inputs=encoder_inputs, outputs=[encoder_outputs, state_h, state_c])\n",
    "\n",
    "# Decoder setup\n",
    "# Below tensors will hold the states of the previous time step\n",
    "decoder_state_input_h = Input(shape=(latent_dim,))\n",
    "decoder_state_input_c = Input(shape=(latent_dim,))\n",
    "decoder_hidden_state_input = Input(shape=(max_text_len,latent_dim))\n",
    "\n",
    "# Get the embeddings of the decoder sequence\n",
    "dec_emb2= dec_emb_layer(decoder_inputs) \n",
    "# To predict the next word in the sequence, set the initial states to the states from the previous time step\n",
    "decoder_outputs2, state_h2, state_c2 = decoder_lstm(dec_emb2, initial_state=[decoder_state_input_h, decoder_state_input_c])\n",
    "\n",
    "#attention inference\n",
    "attn_out_inf, attn_states_inf = attn_layer([decoder_hidden_state_input, decoder_outputs2])\n",
    "decoder_inf_concat = Concatenate(axis=-1, name='concat')([decoder_outputs2, attn_out_inf])\n",
    "\n",
    "# A dense softmax layer to generate prob dist. over the target vocabulary\n",
    "decoder_outputs2 = decoder_dense(decoder_inf_concat) \n",
    "\n",
    "# Final decoder model\n",
    "decoder_model = Model(\n",
    "    [decoder_inputs] + [decoder_hidden_state_input,decoder_state_input_h, decoder_state_input_c],\n",
    "    [decoder_outputs2] + [state_h2, state_c2])"
   ]
  },
  {
   "cell_type": "markdown",
   "metadata": {
    "id": "zOiyk4ToWe74"
   },
   "source": [
    "We are defining a function below which is the implementation of the inference process"
   ]
  },
  {
   "cell_type": "code",
   "execution_count": 43,
   "metadata": {
    "execution": {
     "iopub.execute_input": "2021-07-18T10:37:15.457380Z",
     "iopub.status.busy": "2021-07-18T10:37:15.456927Z",
     "iopub.status.idle": "2021-07-18T10:37:15.482155Z",
     "shell.execute_reply": "2021-07-18T10:37:15.480609Z",
     "shell.execute_reply.started": "2021-07-18T10:37:15.457335Z"
    },
    "id": "6f6TTFnBFxj6"
   },
   "outputs": [],
   "source": [
    "def decode_sequence(input_seq):\n",
    "    # Encode the input as state vectors.\n",
    "    e_out, e_h, e_c = encoder_model.predict(input_seq)\n",
    "    \n",
    "    # Generate empty target sequence of length 1.\n",
    "    target_seq = np.zeros((1,1))\n",
    "    \n",
    "    # Populate the first word of target sequence with the start word.\n",
    "    target_seq[0, 0] = target_word_index['sostok']\n",
    "\n",
    "    stop_condition = False\n",
    "    decoded_sentence = ''\n",
    "    while not stop_condition:\n",
    "      \n",
    "        output_tokens, h, c = decoder_model.predict([target_seq] + [e_out, e_h, e_c])\n",
    "\n",
    "        # Sample a token\n",
    "        sampled_token_index = np.argmax(output_tokens[0, -1, :])\n",
    "        sampled_token = reverse_target_word_index[sampled_token_index]\n",
    "        \n",
    "        if(sampled_token!='eostok'):\n",
    "            decoded_sentence += ' '+sampled_token\n",
    "\n",
    "        # Exit condition: either hit max length or find stop word.\n",
    "        if (sampled_token == 'eostok'  or len(decoded_sentence.split()) >= (max_summary_len-1)):\n",
    "            stop_condition = True\n",
    "\n",
    "        # Update the target sequence (of length 1).\n",
    "        target_seq = np.zeros((1,1))\n",
    "        target_seq[0, 0] = sampled_token_index\n",
    "\n",
    "        # Update internal states\n",
    "        e_h, e_c = h, c\n",
    "\n",
    "    return decoded_sentence"
   ]
  },
  {
   "cell_type": "markdown",
   "metadata": {
    "id": "6GuDf4TPWt6_"
   },
   "source": [
    "Let us define the functions to convert an integer sequence to a word sequence for summary as well as the reviews:"
   ]
  },
  {
   "cell_type": "code",
   "execution_count": 44,
   "metadata": {
    "execution": {
     "iopub.execute_input": "2021-07-18T10:37:15.485941Z",
     "iopub.status.busy": "2021-07-18T10:37:15.484777Z",
     "iopub.status.idle": "2021-07-18T10:37:15.502204Z",
     "shell.execute_reply": "2021-07-18T10:37:15.500635Z",
     "shell.execute_reply.started": "2021-07-18T10:37:15.485891Z"
    },
    "id": "aAUntznIFxj9"
   },
   "outputs": [],
   "source": [
    "def seq2summary(input_seq):\n",
    "    newString=''\n",
    "    for i in input_seq:\n",
    "        if((i!=0 and i!=target_word_index['sostok']) and i!=target_word_index['eostok']):\n",
    "            newString=newString+reverse_target_word_index[i]+' '\n",
    "    return newString\n",
    "\n",
    "def seq2text(input_seq):\n",
    "    newString=''\n",
    "    for i in input_seq:\n",
    "        if(i!=0):\n",
    "            newString=newString+reverse_source_word_index[i]+' '\n",
    "    return newString"
   ]
  },
  {
   "cell_type": "markdown",
   "metadata": {
    "id": "9gM4ALyfWwA9"
   },
   "source": [
    "Here are a few summaries generated by the model:"
   ]
  },
  {
   "cell_type": "code",
   "execution_count": 45,
   "metadata": {
    "execution": {
     "iopub.execute_input": "2021-07-18T10:37:15.506010Z",
     "iopub.status.busy": "2021-07-18T10:37:15.505094Z",
     "iopub.status.idle": "2021-07-18T10:37:19.969770Z",
     "shell.execute_reply": "2021-07-18T10:37:19.968449Z",
     "shell.execute_reply.started": "2021-07-18T10:37:15.505964Z"
    },
    "id": "BUtQmQTmFxkI",
    "outputId": "f407d9fc-e0cd-4082-98f5-bd1f562dc26f"
   },
   "outputs": [
    {
     "name": "stdout",
     "output_type": "stream",
     "text": [
      "Review: gave caffeine shakes heart anxiety attack plus tastes unbelievably bad stick coffee tea soda thanks \n",
      "Original summary: hour \n",
      "Predicted summary:  not as expected\n",
      "\n",
      "\n",
      "Review: got great course good belgian chocolates better \n",
      "Original summary: would like to give it stars but \n",
      "Predicted summary:  great product\n",
      "\n",
      "\n",
      "Review: one best flavored coffees tried usually like flavored coffees one great serve company love \n",
      "Original summary: delicious \n",
      "Predicted summary:  great coffee\n",
      "\n",
      "\n",
      "Review: salt separate area pain makes hard regulate salt putting like salt go ahead get product \n",
      "Original summary: tastes ok packaging \n",
      "Predicted summary:  great gum\n",
      "\n",
      "\n",
      "Review: really like product super easy order online delivered much cheaper buying gas station stocking good long drives \n",
      "Original summary: turkey jerky is great \n",
      "Predicted summary:  great product\n",
      "\n",
      "\n",
      "Review: best salad dressing delivered promptly quantities last vidalia onion dressing compares made oak hill farms sometimes find costco order front door want even orders cut shipping costs \n",
      "Original summary: my favorite salad dressing \n",
      "Predicted summary:  great product\n",
      "\n",
      "\n",
      "Review: think sitting around warehouse long time took long time send got tea tasted like cardboard red rasberry leaf tea know supposed taste like \n",
      "Original summary: stale \n",
      "Predicted summary:  washed washed washed washed\n",
      "\n",
      "\n",
      "Review: year old cat special diet digestive problems also diabetes stopped eating usual special formula food tried different kinds catfood one liked easy digestion diabetes thank newman \n",
      "Original summary: wonderful \n",
      "Predicted summary:  my cats love this\n",
      "\n",
      "\n",
      "Review: always perfect snack dog loves knows exactly starts ask time evening gets greenie snack thank excellent product fast delivery \n",
      "Original summary: greenies buddy treat \n",
      "Predicted summary:  great for training\n",
      "\n",
      "\n",
      "Review: dog loves tiny treats keep one car one house \n",
      "Original summary: dog loves them \n",
      "Predicted summary:  great for dog food\n",
      "\n",
      "\n"
     ]
    }
   ],
   "source": [
    "for i in range(0, 10):\n",
    "    print(\"Review:\",seq2text(x_tr[i]))\n",
    "    print(\"Original summary:\",seq2summary(y_tr[i]))\n",
    "    print(\"Predicted summary:\",decode_sequence(x_tr[i].reshape(1,max_text_len)))\n",
    "    print(\"\\n\")"
   ]
  },
  {
   "cell_type": "markdown",
   "metadata": {
    "id": "OTkaYNjHW4lC"
   },
   "source": [
    "Finally, Our model is able to generate a meaningful summary based on the context present in the text."
   ]
  }
 ],
 "metadata": {
  "hide_input": false,
  "kernelspec": {
   "display_name": "Python 3",
   "language": "python",
   "name": "python3"
  },
  "language_info": {
   "codemirror_mode": {
    "name": "ipython",
    "version": 3
   },
   "file_extension": ".py",
   "mimetype": "text/x-python",
   "name": "python",
   "nbconvert_exporter": "python",
   "pygments_lexer": "ipython3",
   "version": "3.6.6"
  }
 },
 "nbformat": 4,
 "nbformat_minor": 4
}
